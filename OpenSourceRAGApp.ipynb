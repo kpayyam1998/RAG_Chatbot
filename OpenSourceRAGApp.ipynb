{
  "nbformat": 4,
  "nbformat_minor": 0,
  "metadata": {
    "colab": {
      "provenance": []
    },
    "kernelspec": {
      "name": "python3",
      "display_name": "Python 3"
    },
    "language_info": {
      "name": "python"
    }
  },
  "cells": [
    {
      "cell_type": "code",
      "execution_count": 59,
      "metadata": {
        "id": "7zghr5U8_Fif"
      },
      "outputs": [],
      "source": [
        "! pip install  -q -U langchain langchain-community  sentence-transformers faiss-cpu tiktoken langchain-google-genai"
      ]
    },
    {
      "cell_type": "code",
      "source": [
        "from langchain_community.document_loaders import WebBaseLoader\n",
        "from langchain.text_splitter import RecursiveCharacterTextSplitter\n",
        "#from langchain_community.embeddings import HuggingFaceBgeEmbeddings\n",
        "from langchain_community.embeddings.sentence_transformer import HuggingFaceEmbeddings,SentenceTransformerEmbeddings # We can use both for embeddings\n",
        "from langchain_community.vectorstores import FAISS\n",
        "from langchain.prompts import PromptTemplate\n",
        "from langchain_google_genai import GoogleGenerativeAI\n",
        "from langchain.chains import RetrievalQA"
      ],
      "metadata": {
        "id": "9a7nPOyEACLp"
      },
      "execution_count": 79,
      "outputs": []
    },
    {
      "cell_type": "markdown",
      "source": [
        "# Load data , split chunk , store vectors\n"
      ],
      "metadata": {
        "id": "haUVIusfgfaz"
      }
    },
    {
      "cell_type": "code",
      "source": [
        "health_benifits_urls=[\"https://www.healthline.com/health/benefits-of-swimming\",\"https://www.healthline.com/nutrition/13-benefits-of-yoga\",\"https://www.healthline.com/health/fitness-exercise/running-everyday\"]\n",
        "\n",
        "def load_document(url):\n",
        "  loader=WebBaseLoader(url)\n",
        "  document=loader.load()\n",
        "  return document\n",
        "\n",
        "def document_splitter(document):\n",
        "  splitter=RecursiveCharacterTextSplitter(chunk_size=1000,chunk_overlap=200)\n",
        "  document_split=splitter.split_documents(document)\n",
        "  return document_split\n",
        "\n",
        "def store_vector(document_split,model_id):\n",
        "  embeddings=SentenceTransformerEmbeddings(model_name=model_id)\n",
        "  vector_db=FAISS.from_documents(document_split,embeddings)\n",
        "  vector_db.save_local(\"DB\")\n",
        "  return vector_db,True\n"
      ],
      "metadata": {
        "id": "ZimrCB8pAoTK"
      },
      "execution_count": 80,
      "outputs": []
    },
    {
      "cell_type": "markdown",
      "source": [
        "# Chain"
      ],
      "metadata": {
        "id": "ocyAyqsDgnWd"
      }
    },
    {
      "cell_type": "code",
      "source": [
        "def prompt_format():\n",
        "  template = \"\"\"/\n",
        "  Your are the expert of providing benifits of health,swimming etc.. if you dont know the answer just say dont know dont make unnecessary answers\n",
        "\n",
        "  Context={context}\n",
        "  Question: {question}\n",
        "\n",
        "  Answer:\n",
        "  \"\"\"\n",
        "  prompt=PromptTemplate(\n",
        "      input_variables=['context','question'],\n",
        "      template=template\n",
        "  )\n",
        "\n",
        "  return prompt\n",
        "\n",
        "def retrieval_QA(vector_db,prompt):\n",
        "  chain=RetrievalQA.from_chain_type(\n",
        "    llm=GoogleGenerativeAI(model=\"models/text-bison-001\",google_api_key=\"your key\"),\n",
        "    retriever=vector_db.as_retriever(kwargs={\"k\":3}),\n",
        "    chain_type=\"stuff\",\n",
        "    chain_type_kwargs={\"prompt\": prompt},\n",
        "    return_source_documents=True)\n",
        "  return chain"
      ],
      "metadata": {
        "id": "YkheKoKMBGEC"
      },
      "execution_count": 86,
      "outputs": []
    },
    {
      "cell_type": "markdown",
      "source": [
        "# Function call"
      ],
      "metadata": {
        "id": "slsY0tTPguyg"
      }
    },
    {
      "cell_type": "code",
      "source": [
        "model_id=\"all-MiniLM-L6-v2\" # Embedding repo model id\n",
        "\n",
        "document=load_document(health_benifits_urls)\n",
        "splitted_docs=document_splitter(document)\n",
        "vector_db,status=store_vector(splitted_docs,model_id)\n",
        "\n",
        "if status:\n",
        "  print(\"Stored Vector Successfully\")\n"
      ],
      "metadata": {
        "colab": {
          "base_uri": "https://localhost:8080/"
        },
        "id": "EH9_pWTlEPUP",
        "outputId": "8999c504-27d6-4729-cf88-a5d75a8a30c1"
      },
      "execution_count": 83,
      "outputs": [
        {
          "output_type": "stream",
          "name": "stderr",
          "text": [
            "/usr/local/lib/python3.10/dist-packages/huggingface_hub/file_download.py:1132: FutureWarning: `resume_download` is deprecated and will be removed in version 1.0.0. Downloads always resume when possible. If you want to force a new download, use `force_download=True`.\n",
            "  warnings.warn(\n"
          ]
        },
        {
          "output_type": "stream",
          "name": "stdout",
          "text": [
            "Stored Vector Successfully\n"
          ]
        }
      ]
    },
    {
      "cell_type": "code",
      "source": [
        "prompt=prompt_format()\n",
        "ques=\"Explain Swimming safety?\"\n",
        "qa_chain=retrieval_QA(vector_db,prompt)\n",
        "response=qa_chain({\"query\":ques})"
      ],
      "metadata": {
        "id": "2FINKN-tY1wv"
      },
      "execution_count": 87,
      "outputs": []
    },
    {
      "cell_type": "code",
      "source": [
        "response['result']"
      ],
      "metadata": {
        "colab": {
          "base_uri": "https://localhost:8080/",
          "height": 108
        },
        "id": "jtVsy6tWES_O",
        "outputId": "177f9458-aaa6-4a7a-fb7d-a58bdd45b140"
      },
      "execution_count": 89,
      "outputs": [
        {
          "output_type": "execute_result",
          "data": {
            "text/plain": [
              "'The following swim safety tips can help reduce your risk from swimming: Swim in areas that are designated for swimming, like pools and roped off sections of lakes and other bodies of water. If possible, swim in areas that are supervised by lifeguards.If you aren’t swimming with lifeguard supervision, bring a buddy.Consider taking swimming lessons if you’re new to the sport. You can enroll in age-appropriate classes through the Red Cross and through other programs in your area.Swimming outdoors? Wear sunscreen of at least SPF 15 or higher to protect your skin. You may also want to avoid swimming between the hours of 10 a.m. and 4 p.m., when the sun is at its strongest.'"
            ],
            "application/vnd.google.colaboratory.intrinsic+json": {
              "type": "string"
            }
          },
          "metadata": {},
          "execution_count": 89
        }
      ]
    },
    {
      "cell_type": "code",
      "source": [
        "print(response['result'])"
      ],
      "metadata": {
        "colab": {
          "base_uri": "https://localhost:8080/"
        },
        "id": "-X77NVIuEhoI",
        "outputId": "e15a0e50-dac2-4980-ecb6-4ed1d0fcc43b"
      },
      "execution_count": 75,
      "outputs": [
        {
          "output_type": "stream",
          "name": "stdout",
          "text": [
            "1. Swim in areas that are designated for swimming, like pools and roped off sections of lakes and other bodies of water.\n",
            "2. If possible, swim in areas that are supervised by lifeguards.\n",
            "3. If you aren’t swimming with lifeguard supervision, bring a buddy.\n",
            "4. Consider taking swimming lessons if you’re new to the sport.\n",
            "5. Swimming outdoors? Wear sunscreen of at least SPF 15 or higher to protect your skin.\n",
            "6. You may also want to avoid swimming between the hours of 10 a.m. and 4 p.m., when the sun’s UV rays are strongest.\n"
          ]
        }
      ]
    },
    {
      "cell_type": "markdown",
      "source": [
        "# Retrivel data from vector DB"
      ],
      "metadata": {
        "id": "hadKWZQ7g1_m"
      }
    },
    {
      "cell_type": "code",
      "source": [
        "generate=True\n",
        "while generate:\n",
        "  question=input(\"Ask your questions?..\")\n",
        "  if question ==\"exit\":\n",
        "    generate=False\n",
        "  else:\n",
        "    prompt=prompt_format()\n",
        "    qa_chain=retrieval_QA(vector_db,prompt)\n",
        "    response=qa_chain({\"query\":question})\n",
        "    print(response['result'])\n"
      ],
      "metadata": {
        "colab": {
          "base_uri": "https://localhost:8080/"
        },
        "id": "8x_qQpAuTI5z",
        "outputId": "6fabcf4c-26ce-44e2-a26d-01f7ad095ed0"
      },
      "execution_count": 93,
      "outputs": [
        {
          "name": "stdout",
          "output_type": "stream",
          "text": [
            "Ask your questions?..Swim lessons what its?\n",
            "offered in private or group settings. In lessons, you’ll learn different strokes, breathing techniques, and other handy tips for getting the most from your workout.\n",
            "Ask your questions?..exit\n"
          ]
        }
      ]
    }
  ]
}